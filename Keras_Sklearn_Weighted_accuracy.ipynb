{
 "cells": [
  {
   "cell_type": "code",
   "execution_count": null,
   "metadata": {},
   "outputs": [],
   "source": [
    "#https://github.com/keras-team/keras/issues/12991\n",
    "    \n",
    "\n",
    "from keras.layers import Dense, Dropout\n",
    "from keras.models import Sequential\n",
    "from keras.regularizers import l2\n",
    "import pandas as pd\n",
    "import numpy as np\n",
    "from sklearn.utils import class_weight\n",
    "from sklearn.metrics import accuracy_score\n",
    "from sklearn.model_selection import train_test_split\n",
    "\n",
    "file = 'https://raw.githubusercontent.com/jbrownlee/Datasets/master/' \\\n",
    "       'pima-indians-diabetes.data.csv'\n",
    "\n",
    "# Load csv data from file to data using pandas\n",
    "data = pd.read_csv(file, names=['pregnancies', 'glucose', 'diastolic', 'triceps', 'insulin',\n",
    "                                'bmi', 'dpf', 'age', 'diabetes'])\n",
    "\n",
    "# Process data\n",
    "data.head()\n",
    "x = data.drop(columns=['diabetes'])\n",
    "y = data['diabetes']\n",
    "\n",
    "# Split into train and test\n",
    "x_train, x_test, y_train, y_test = train_test_split(x, y, test_size=0.1, random_state=0)\n",
    "\n",
    "# define a sequential model\n",
    "model = Sequential()\n",
    "# 1st hidden layer\n",
    "model.add(Dense(100, activation='relu', input_dim=8, kernel_regularizer=l2(0.01)))\n",
    "model.add(Dropout(0.3))\n",
    "# 2nd hidden layer\n",
    "model.add(Dense(100, activation='relu', kernel_regularizer=l2(0.01)))\n",
    "model.add(Dropout(0.3))\n",
    "# Output layer\n",
    "model.add(Dense(1, activation='sigmoid'))\n",
    "# Compilation with weighted metrics\n",
    "model.compile(loss='binary_crossentropy', optimizer='adam', metrics=['accuracy'], \n",
    "                         weighted_metrics=['accuracy'])\n",
    "\n",
    "# Calculate validation _sample_weights_ based on the class distribution of train labels and \n",
    "# apply it to test labels using Sklearn\n",
    "cls_weights = class_weight.compute_class_weight('balanced', np.unique(y_train._values), \n",
    "                                                y_train._values)\n",
    "cls_weight_dict = {0: cls_weights[0], 1: cls_weights[1]}\n",
    "val_sample_weights = class_weight.compute_sample_weight(cls_weight_dict, y_test._values)\n",
    "\n",
    "# Train model\n",
    "model_output = model.fit(x_train, y_train, epochs=500, batch_size=32, verbose=1,\n",
    "                         validation_data=(x_test, y_test, val_sample_weights))\n",
    "\n",
    "# Predict model\n",
    "y_pred = model.predict(x_test, batch_size=32, verbose=1)\n",
    "\n",
    "# Classify predictions based on threshold at 0.5\n",
    "y_pred_binary = (y_pred > 0.5) * 1\n",
    "\n",
    "# Sklearn metrics\n",
    "sklearn_accuracy = accuracy_score(y_test, y_pred_binary)\n",
    "sklearn_weighted_accuracy = accuracy_score(y_test, y_pred_binary, \n",
    "                                           sample_weight=val_sample_weights)\n",
    "\n",
    "# metric_list has 3 entries: [0] val_loss weighted by val_sample_weights, [1] val_accuracy \n",
    "# [2] val_weighted_accuracy\n",
    "metric_list = model.evaluate(x_test, y_test, batch_size=32, verbose=1, \n",
    "                             sample_weight=val_sample_weights)\n",
    "\n",
    "print('sklearn_accuracy=%.3f' %sklearn_accuracy)\n",
    "print('sklearn_weighted_accuracy=%.3f' %sklearn_weighted_accuracy)\n",
    "print('keras_evaluate_accuracy=%.3f' %metric_list[1])\n",
    "print('keras_evaluate_weighted_accuracy=%.3f' %metric_list[2])"
   ]
  },
  {
   "cell_type": "code",
   "execution_count": 2,
   "metadata": {},
   "outputs": [
    {
     "data": {
      "text/plain": [
       "0.5802582768527041"
      ]
     },
     "execution_count": 2,
     "metadata": {},
     "output_type": "execute_result"
    }
   ],
   "source": [
    "(1259*0.56+28*4.54)/((1259*0.56+28*4.54)+(130*4.54+21*0.56))"
   ]
  },
  {
   "cell_type": "code",
   "execution_count": null,
   "metadata": {},
   "outputs": [],
   "source": []
  }
 ],
 "metadata": {
  "kernelspec": {
   "display_name": "Python 3",
   "language": "python",
   "name": "python3"
  },
  "language_info": {
   "codemirror_mode": {
    "name": "ipython",
    "version": 3
   },
   "file_extension": ".py",
   "mimetype": "text/x-python",
   "name": "python",
   "nbconvert_exporter": "python",
   "pygments_lexer": "ipython3",
   "version": "3.6.7"
  }
 },
 "nbformat": 4,
 "nbformat_minor": 2
}
